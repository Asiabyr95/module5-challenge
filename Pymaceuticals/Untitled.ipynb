{
 "cells": [
  {
   "cell_type": "code",
   "execution_count": null,
   "id": "63d9ad84-02d9-46db-b548-8e84b34c3d60",
   "metadata": {},
   "outputs": [],
   "source": []
  }
 ],
 "metadata": {
  "kernelspec": {
   "display_name": "",
   "name": ""
  },
  "language_info": {
   "name": ""
  }
 },
 "nbformat": 4,
 "nbformat_minor": 5
}
